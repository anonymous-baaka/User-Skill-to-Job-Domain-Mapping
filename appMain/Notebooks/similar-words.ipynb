{
 "cells": [
  {
   "cell_type": "code",
   "execution_count": 3,
   "metadata": {},
   "outputs": [],
   "source": [
    "import gensim\n",
    "from gensim.models import Word2Vec, KeyedVectors\n",
    "import multiprocessing"
   ]
  },
  {
   "cell_type": "code",
   "execution_count": 5,
   "metadata": {},
   "outputs": [],
   "source": [
    "#projectDir = '/home/manojmenpadi/Documents/Soft Computing/Extraction of Skills/'\n",
    "#cleanResumeDir = projectDir + 'data/clean_resume/'\n",
    "cleanResumeDir=\"D:\\\\Projects\\\\Extraction-of-Skills-master\\\\data\\\\clean_resume\"\n",
    "\n",
    "os.chdir(cleanResumeDir)\n",
    "\n",
    "tokenized_resumes = []\n",
    "\n",
    "for clean_resume in os.listdir(cleanResumeDir):\n",
    "    file = open(str(clean_resume), encoding=\"utf8\")\n",
    "    resume = file.read()\n",
    "    tokenized_resumes.append(resume.split())"
   ]
  },
  {
   "cell_type": "code",
   "execution_count": 6,
   "metadata": {},
   "outputs": [
    {
     "name": "stdout",
     "output_type": "stream",
     "text": [
      "[['manas', 'panda', 'singapore', 'pr', 'mobile', 'email', 'id', 'professional', 'years', 'experience', 'financial', 'management', 'accounting', 'financial', 'planning', 'analysis', 'payroll', 'reporting', 'control', 'adept', 'problem', 'solving', 'meeting', 'tight', 'deadlines', 'producing', 'quality', 'work', 'pressure', 'possess', 'good', 'knowledge', 'use', 'professional', 'finance', 'software', 'expertise', 'domains', 'operational', 'accounting', 'finance', 'budgeting', 'forecasting', 'financial', 'planning', 'analysis', 'taxation', 'audit', 'team', 'management', 'service', 'standards', 'business', 'excellence', 'managing', 'controlling', 'account', 'closing', 'monthly', 'quarterly', 'annual', 'closing', 'also', 'handled', 'allocations', 'translations', 'consolidations', 'multiple', 'entities', 'globally', 'expertise', 'payroll', 'processing', 'accounting', 'compliances', 'statutory', 'payments', 'preparation', 'financial', 'reports', 'including', 'profit', 'loss', 'statement', 'balance', 'sheet', 'statement', 'cash', 'flows', 'well', 'yearend', 'financial', 'reports', 'expertise', 'revenue', 'accounting', 'various', 'billing', 'model', 'time', 'material', 'fixed', 'bid', 'cost', 'plus', 'mark', 'up', 'analysis', 'financial', 'statements', 'financial', 'planning', 'analysis', 'ratio', 'analysis', 'variance', 'analysis', 'provided', 'timely', 'explanations', 'corrective', 'actions', 'appropriate', 'major', 'achievements', 'successfully', 'migrated', 'people', 'soft', 'oracle', 'dell', 'finance', 'department', 'uniformly', 'using', 'single', 'platform', 'when', 'dell', 'acquired', 'perot', 'systems', 'corporation', 'successfully', 'migrated', 'jde', 'ed', 'ward', 'people', 'soft', 'perot', 'systems', 'corporation', 'finance', 'single', 'platform', 'usage', 'when', 'perot', 'systems', 'corporations', 'acquired', 'hcl', 'perot', 'systems', 'streamlined', 'process', 'accounts', 'payable', 'general', 'accounting', 'payroll', 'processing', 'within', 'time', 'line', 'provided', 'successfully', 'transitioned', 'apac', 'payroll', 'system', 'dell', 'penang', 'ensured', 'compliance', 'statutory', 'requirements', 'facilitated', 'long', 'term', 'projection', 'edb', 'economic', 'development', 'board', 'achieved', 'significant', 'tax', 'benefits', 'government', 'tax', 'reduction', 'drove', 'various', 'audit', 'assignments', 'statutory', 'internal', 'tax', 'local', 'gaap', 'us', 'gaap', 'simultaneously', 'multiple', 'entities', 'including', 'manufacturing', 'unit', 'finalized', 'gaap', 'adjustments', 'dell', 'software', 'singapore', 'pte', 'ltd', 'formerly', 'known', 'quest', 'singapore', 'pte', 'ltd', 'june', 'july', 'accounting', 'payroll', 'advisor', 'singapore', 'responsibilities', 'responsible', 'managing', 'payroll', 'processing', 'accounting', 'apac', 'region', 'interface', 'automatic', 'data', 'processing', 'ltd', 'preparation', 'payroll', 'statutory', 'reporting', 'payroll', 'annual', 'audit', 'engaged', 'deloitte', 'government', 'surveys', 'payroll', 'projects', 'day', 'day', 'transaction', 'attending', 'employee', 'day', 'day', 'queries', 'responsible', 'audit', 'assignments', 'pwc', 'dell', 'services', 'pte', 'ltd', 'statutory', 'internal', 'tax', 'local', 'gaap', 'us', 'gaap', 'simultaneously', 'multiple', 'entities', 'including', 'manufacturing', 'unit', 'responsible', 'finalization', 'gaap', 'adjustments', 'holds', 'distinction', 'conversant', 'accounts', 'preparation', 'finalization', 'per', 'general', 'accepted', 'accounting', 'principles', 'dell', 'services', 'pte', 'ltd', 'formerly', 'known', 'perot', 'systems', 'singapore', 'pte', 'ltd', 'may', 'may', 'accounting', 'advisor', 'asia', 'controller', 'responsibilities', 'responsible', 'accounts', 'payable', 'receivable', 'general', 'accounting', 'financial', 'planning', 'analysis', 'apac', 'region', 'maintaining', 'books', 'account', 'apac', 'region', 'payroll', 'checking', 'reconciliation', 'disbursement', 'statutory', 'payment', 'apac', 'region', 'accountable', 'month', 'end', 'activities', 'i', 'e', 'accounts', 'payable', 'general', 'accounting', 'budgeting', 'forecasting', 'asset', 'management', 'bank', 'reconciliation', 'includes', 'restatements', 'also', 'preparation', 'local', 'statutory', 'returns', 'i', 'e', 'gst', 'payroll', 'tax', 'services', 'tax', 'cpf', 'returns', 'submitted', 'local', 'statutory', 'board', 'within', 'stipulated', 'period', 'avoid', 'compliances', 'audit', 'engagement', 'pwc', 'preparation', 'balance', 'sheet', 'schedules', 'consolidation', 'trial', 'balance', 'grouping', 'financial', 'variation', 'analysis', 'coordination', 'onsite', 'offshore', 'associates', 'project', 'manager', 'respect', 'revenue', 'recognition', 'employee', 'related', 'disbursements', 'contribution', 'towards', 'organizational', 'initiatives', 'e', 'g', 'knowledge', 'sox', 'compliance', 'communication', 'associates', 'ensure', 'company', 'policies', 'compliances', 'followed', 'hcl', 'perot', 'systems', 'india', 'april', 'april', 'finance', 'associate', 'responsibilities', 'responsible', 'book', 'keeping', 'apac', 'region', 'month', 'end', 'closure', 'books', 'accounts', 'involving', 'provisioning', 'various', 'direct', 'indirect', 'expenses', 'bank', 'reconciliations', 'revenue', 'recognition', 'invoicing', 'ubs', 'union', 'bank', 'switzerland', 'one', 'principal', 'clients', 'companies', 'estimation', 'monthly', 'revenue', 'accrual', 'summary', 'circulated', 'onsite', 'managers', 'senior', 'management', 'india', 'apac', 'assistance', 'preparation', 'payroll', 'employee', 'tax', 'computation', 'cpf', 'employee', 'tax', 'filing', 'responsible', 'inter', 'company', 'accounts', 'reconciliations', 'asia', 'pacific', 'principal', 'entity', 'india', 'offshore', 'audit', 'support', 'apac', 'region', 'involving', 'preparation', 'various', 'schedules', 'attached', 'balance', 'sheet', 'profit', 'loss', 'account', 'concerned', 'entity', 'assisting', 'final', 'audit', 'apac', 'malaysia', 'entity', 'annual', 'audit', 'performed', 'india', 'm', 's', 'standard', 'cartons', 'pvt', 'ltd', 'august', 'march', 'sr', 'accountant', 'india', 'responsibilities', 'control', 'supervision', 'day', 'to', 'day', 'financial', 'transaction', 'taking', 'care', 'india', 'sales', 'tax', 'income', 'tax', 'registered', 'company', 'employees', 'state', 'insurance', 'corporation', 'employees', 'provident', 'funds', 'projection', 'company', 'results', 'purposes', 'applying', 'loan', 'banks', 'handling', 'treasury', 'related', 'activities', 'monthly', 'reconciliation', 'banks', 'responsible', 'annual', 'statutory', 'audits', 'finalization', 'balance', 'sheet', 'profit', 'loss', 'accounts', 'liaising', 'suppliers', 'dealers', 'ensure', 'companies', 'policies', 'followed', 'sox', 'compliances', 'taken', 'care', 'of', 'm', 's', 'repro', 'offset', 'india', 'pvt', 'ltd', 'july', 'may', 'accountant', 'responsibilities', 'control', 'supervision', 'day', 'to', 'day', 'financial', 'transaction', 'payroll', 'processing', 'projection', 'company', 'results', 'purposes', 'applying', 'loan', 'bank', 'overdraft', 'treasury', 'related', 'activities', 'bank', 'reconciliations', 'responsible', 'annual', 'statutory', 'audits', 'finalization', 'balance', 'sheet', 'profit', 'loss', 'accounts', 'responsible', 'local', 'taxes', 'preparation', 'submitted', 'government', 'm', 's', 'genesis', 'august', 'june', 'accountant', 'job', 'profile', 'assisting', 'day', 'to', 'day', 'financial', 'transaction', 'bank', 'reconciliations', 'supporting', 'annual', 'audit', 'taking', 'care', 'sales', 'tax', 'manual', 'payroll', 'processing', 'accounting', 'professional', 'training', 'and', 'education', 'bachelor', 'commerce', 'accounting', 'finance', 'utkal', 'university', 'india', 'master', 'business', 'administration', 'mba', 'finance', 'punjab', 'technical', 'university', 'india', 'diploma', 'computer', 'application', 'financial', 'accounting', 'including', 'tally', 'diploma', 'sap', 'erp', 'finance', 'controlling', 'systems', 'i', 'completed', 'course', 'sap', 'r', 'fico', 'worked', 'different', 'applications', 'area', 'finance', 'my', 'exposure', 'includes', 'general', 'ledger', 'accounts', 'payable', 'receivables', 'webcom', 'technologies', 'possess', 'strong', 'analytical', 'communication', 'skills', 'british', 'council', 'key', 'accomplishments', 'consecutive', 'three', 'silver', 'award', 'winners', 'q2', 'fy', 'q2', 'fy12', 'q1', 'fy14', 'have', 'successfully', 'completed', 'local', 'international', 'entity', 'liquidations', 'strike', 'off'], ['ng', 'ka', 'wah', 'hong', 'kong', 'mobile', 'email', 'ngwah1988', 'gmail', 'com', 'references', 'available', 'upon', 'request'], ['edmond', 'zhang', 'ca', 'blk', 'jelebu', 'rd', 'singapore', 'edmond_z', 'hotmail', 'com', 'singaporean', 'professional', 'experience', 'ernst', 'young', 'financial', 'services', 'office', 'audit', 'assurance', 'asset', 'management', 'specialisation', 'sep', 'current', 'assistant', 'manager', 'audited', 'private', 'real', 'estate', 'fund', 's', 'quarterly', 'nav', 'consolidation', 'focusing', 'fund', 'structure', 'real', 'singapore', 'estate', 'valuation', 'construction', 'progress', 'loan', 'amortisation', 'fx', 'options', 'hedges', 'analysed', 'quarterly', 'asset', 'valuation', 'performed', 'independent', 'appraisers', 'providing', 'commentary', 'reasonableness', 'asset', 'value', 'quarterly', 'audit', 'review', 'performed', 'testing', 'identified', 'control', 'deficiencies', 'surrounding', 'fund', 'management', 'processes', 'including', 'capital', 'calls', 'returns', 'cash', 'management', 'portfolio', 'acquisition', 'financial', 'reporting', 'reviewed', 'key', 'accounting', 'policies', 'advised', 'client', 'appropriate', 'accounting', 'treatment', 'adherence', 'relevant', 'financial', 'reporting', 'standards', 'experienced', 'dealing', 'lawyers', 'investment', 'deal', 'teams', 'investment', 'support', 'teams', 'fund', 'administrators', 'kordamentha', 'forensics', 'department', 'intern', 'formed', 'hypothesis', 'conducted', 'scenario', 'analysis', 'new', 'south', 'wales', 'supreme', 'court', 'case', 'may', 'jul', 'singapore', 'substantiated', 'damages', 'paid', 'defendant', 'investigated', 'trades', 'entered', 'fund', 'manager', 'singapore', 'sgx', 'data', 'identified', 'fraudulent', 'transactions', 'researched', 'authored', 'monthly', 'anti', 'fraud', 'newsletters', 'major', 'mining', 'corporation', 'education', 'nanyang', 'technological', 'university', 'bachelor', 'accountancy', '2nd', 'upper', 'class', 'honors', 'relevant', 'coursework', 'business', 'valuation', 'analysis', 'risk', 'reporting', 'analysis', 'chinese', 'university', 'hong', 'kong', 'international', 'student', 'exchange', 'programme', 'skills', 'certifications', 'interests', 'languages', 'fluent', 'english', 'chinese', 'certifications', 'training', 'passed', 'cfa', 'level', 'it', 'ms', 'excel', 'bloomberg', 'reuters', 'institute', 'singapore', 'chartered', 'accountant', 'associate', 'member', 'relevant', 'coursework', 'strategic', 'management', 'investments', 'singapore', 'aug', 'jul', 'hong', 'kong', 'aug', 'dec']]\n"
     ]
    }
   ],
   "source": [
    "print(tokenized_resumes[:3])"
   ]
  },
  {
   "cell_type": "code",
   "execution_count": 18,
   "metadata": {},
   "outputs": [],
   "source": [
    "import os\n",
    "os.chdir('..')"
   ]
  },
  {
   "cell_type": "code",
   "execution_count": 19,
   "metadata": {},
   "outputs": [],
   "source": [
    "modelDir =os.getcwd()  + '\\\\models\\\\'\n",
    "os.chdir(modelDir)"
   ]
  },
  {
   "cell_type": "code",
   "execution_count": 26,
   "metadata": {},
   "outputs": [],
   "source": [
    "#model = gensim.models.Word2Vec(tokenized_resumes, vector_size=300, window=12, min_count=5, negative=15, \n",
    "               #epochs=15, workers=multiprocessing.cpu_count())\n",
    "\n",
    "model=KeyedVectors.load_word2vec_format('https://s3.amazonaws.com/dl4j-distribution/GoogleNews-vectors-negative300.bin.gz', binary=True)"
   ]
  },
  {
   "cell_type": "code",
   "execution_count": 33,
   "metadata": {},
   "outputs": [],
   "source": [
    "tmpmodel=model"
   ]
  },
  {
   "cell_type": "code",
   "execution_count": 34,
   "metadata": {},
   "outputs": [],
   "source": [
    "model = gensim.models.Word2Vec(tokenized_resumes, vector_size=300, window=12, min_count=5, negative=15, \n",
    "               epochs=15, workers=multiprocessing.cpu_count())"
   ]
  },
  {
   "cell_type": "code",
   "execution_count": 40,
   "metadata": {},
   "outputs": [
    {
     "name": "stdout",
     "output_type": "stream",
     "text": [
      "D:\\Projects\\Extraction-of-Skills-master\\models\n"
     ]
    },
    {
     "ename": "IndexError",
     "evalue": "index 84 is out of bounds for axis 0 with size 1",
     "output_type": "error",
     "traceback": [
      "\u001b[1;31m---------------------------------------------------------------------------\u001b[0m",
      "\u001b[1;31mIndexError\u001b[0m                                Traceback (most recent call last)",
      "\u001b[1;32m~\\AppData\\Local\\Temp/ipykernel_7528/1579712838.py\u001b[0m in \u001b[0;36m<module>\u001b[1;34m\u001b[0m\n\u001b[0;32m      1\u001b[0m \u001b[0mprint\u001b[0m\u001b[1;33m(\u001b[0m\u001b[0mos\u001b[0m\u001b[1;33m.\u001b[0m\u001b[0mgetcwd\u001b[0m\u001b[1;33m(\u001b[0m\u001b[1;33m)\u001b[0m\u001b[1;33m)\u001b[0m\u001b[1;33m\u001b[0m\u001b[1;33m\u001b[0m\u001b[0m\n\u001b[1;32m----> 2\u001b[1;33m \u001b[0mmodel\u001b[0m\u001b[1;33m.\u001b[0m\u001b[0mwv\u001b[0m\u001b[1;33m.\u001b[0m\u001b[0mintersect_word2vec_format\u001b[0m\u001b[1;33m(\u001b[0m\u001b[1;34m'D:\\\\Projects\\\\BE-Project\\\\BE Project\\\\models\\\\GoogleNews-vectors-negative300.bin.gz'\u001b[0m\u001b[1;33m,\u001b[0m \u001b[0mlockf\u001b[0m\u001b[1;33m=\u001b[0m\u001b[1;36m1.0\u001b[0m\u001b[1;33m,\u001b[0m \u001b[0mbinary\u001b[0m\u001b[1;33m=\u001b[0m\u001b[1;32mTrue\u001b[0m\u001b[1;33m)\u001b[0m\u001b[1;33m\u001b[0m\u001b[1;33m\u001b[0m\u001b[0m\n\u001b[0m",
      "\u001b[1;32m~\\Envs\\envweb\\lib\\site-packages\\gensim\\models\\keyedvectors.py\u001b[0m in \u001b[0;36mintersect_word2vec_format\u001b[1;34m(self, fname, lockf, binary, encoding, unicode_errors)\u001b[0m\n\u001b[0;32m   1679\u001b[0m                         \u001b[0moverlap_count\u001b[0m \u001b[1;33m+=\u001b[0m \u001b[1;36m1\u001b[0m\u001b[1;33m\u001b[0m\u001b[1;33m\u001b[0m\u001b[0m\n\u001b[0;32m   1680\u001b[0m                         \u001b[0mself\u001b[0m\u001b[1;33m.\u001b[0m\u001b[0mvectors\u001b[0m\u001b[1;33m[\u001b[0m\u001b[0mself\u001b[0m\u001b[1;33m.\u001b[0m\u001b[0mget_index\u001b[0m\u001b[1;33m(\u001b[0m\u001b[0mword\u001b[0m\u001b[1;33m)\u001b[0m\u001b[1;33m]\u001b[0m \u001b[1;33m=\u001b[0m \u001b[0mweights\u001b[0m\u001b[1;33m\u001b[0m\u001b[1;33m\u001b[0m\u001b[0m\n\u001b[1;32m-> 1681\u001b[1;33m                         \u001b[0mself\u001b[0m\u001b[1;33m.\u001b[0m\u001b[0mvectors_lockf\u001b[0m\u001b[1;33m[\u001b[0m\u001b[0mself\u001b[0m\u001b[1;33m.\u001b[0m\u001b[0mget_index\u001b[0m\u001b[1;33m(\u001b[0m\u001b[0mword\u001b[0m\u001b[1;33m)\u001b[0m\u001b[1;33m]\u001b[0m \u001b[1;33m=\u001b[0m \u001b[0mlockf\u001b[0m  \u001b[1;31m# lock-factor: 0.0=no changes\u001b[0m\u001b[1;33m\u001b[0m\u001b[1;33m\u001b[0m\u001b[0m\n\u001b[0m\u001b[0;32m   1682\u001b[0m             \u001b[1;32melse\u001b[0m\u001b[1;33m:\u001b[0m\u001b[1;33m\u001b[0m\u001b[1;33m\u001b[0m\u001b[0m\n\u001b[0;32m   1683\u001b[0m                 \u001b[1;32mfor\u001b[0m \u001b[0mline_no\u001b[0m\u001b[1;33m,\u001b[0m \u001b[0mline\u001b[0m \u001b[1;32min\u001b[0m \u001b[0menumerate\u001b[0m\u001b[1;33m(\u001b[0m\u001b[0mfin\u001b[0m\u001b[1;33m)\u001b[0m\u001b[1;33m:\u001b[0m\u001b[1;33m\u001b[0m\u001b[1;33m\u001b[0m\u001b[0m\n",
      "\u001b[1;31mIndexError\u001b[0m: index 84 is out of bounds for axis 0 with size 1"
     ]
    }
   ],
   "source": [
    "print(os.getcwd())\n",
    "model.wv.intersect_word2vec_format('D:\\\\Projects\\\\BE-Project\\\\BE Project\\\\models\\\\GoogleNews-vectors-negative300.bin.gz', lockf=1.0, binary=True)\n"
   ]
  },
  {
   "cell_type": "code",
   "execution_count": 41,
   "metadata": {},
   "outputs": [
    {
     "ename": "TypeError",
     "evalue": "'KeyedVectors' object is not callable",
     "output_type": "error",
     "traceback": [
      "\u001b[1;31m---------------------------------------------------------------------------\u001b[0m",
      "\u001b[1;31mTypeError\u001b[0m                                 Traceback (most recent call last)",
      "\u001b[1;32m~\\AppData\\Local\\Temp/ipykernel_7528/1033620315.py\u001b[0m in \u001b[0;36m<module>\u001b[1;34m\u001b[0m\n\u001b[1;32m----> 1\u001b[1;33m \u001b[0mmodel\u001b[0m\u001b[1;33m.\u001b[0m\u001b[0mwv\u001b[0m\u001b[1;33m(\u001b[0m\u001b[1;34m'GoogleNews-vectors-negative300.bin.gz'\u001b[0m\u001b[1;33m,\u001b[0m \u001b[0mlockf\u001b[0m\u001b[1;33m=\u001b[0m\u001b[1;36m1.0\u001b[0m\u001b[1;33m,\u001b[0m \u001b[0mbinary\u001b[0m\u001b[1;33m=\u001b[0m\u001b[1;32mTrue\u001b[0m\u001b[1;33m)\u001b[0m\u001b[1;33m\u001b[0m\u001b[1;33m\u001b[0m\u001b[0m\n\u001b[0m\u001b[0;32m      2\u001b[0m \u001b[1;33m\u001b[0m\u001b[0m\n\u001b[0;32m      3\u001b[0m \u001b[0mmodel\u001b[0m\u001b[1;33m.\u001b[0m\u001b[0mtrain\u001b[0m\u001b[1;33m(\u001b[0m\u001b[0msentences\u001b[0m \u001b[1;33m=\u001b[0m \u001b[0mtokenized_resumes\u001b[0m\u001b[1;33m,\u001b[0m \u001b[0mtotal_examples\u001b[0m\u001b[1;33m=\u001b[0m\u001b[0mmodel\u001b[0m\u001b[1;33m.\u001b[0m\u001b[0mcorpus_count\u001b[0m\u001b[1;33m,\u001b[0m \u001b[0mepochs\u001b[0m \u001b[1;33m=\u001b[0m \u001b[1;36m10\u001b[0m\u001b[1;33m)\u001b[0m\u001b[1;33m\u001b[0m\u001b[1;33m\u001b[0m\u001b[0m\n",
      "\u001b[1;31mTypeError\u001b[0m: 'KeyedVectors' object is not callable"
     ]
    }
   ],
   "source": [
    "model.wv('GoogleNews-vectors-negative300.bin.gz', lockf=1.0, binary=True)\n",
    "\n",
    "model.train(sentences = tokenized_resumes, total_examples=model.corpus_count, epochs = 10)\n",
    "model_name = \"model_skill_extraction\"\n",
    "model.save(model_name)"
   ]
  },
  {
   "cell_type": "code",
   "execution_count": 43,
   "metadata": {},
   "outputs": [
    {
     "name": "stdout",
     "output_type": "stream",
     "text": [
      "D:\\Projects\\Extraction-of-Skills-master\\models\n"
     ]
    }
   ],
   "source": [
    "model=gensim.models.Word2Vec.load(\"model_skill_extraction\")\n",
    "print(os.getcwd())"
   ]
  },
  {
   "cell_type": "code",
   "execution_count": null,
   "metadata": {},
   "outputs": [],
   "source": []
  }
 ],
 "metadata": {
  "interpreter": {
   "hash": "4de3702824dea7b4e09db6fcdf24c2ff403da80758d47f1a8ea97ef9c42f1ea8"
  },
  "kernelspec": {
   "display_name": "Python 3.10.0 ('envweb')",
   "language": "python",
   "name": "python3"
  },
  "language_info": {
   "codemirror_mode": {
    "name": "ipython",
    "version": 3
   },
   "file_extension": ".py",
   "mimetype": "text/x-python",
   "name": "python",
   "nbconvert_exporter": "python",
   "pygments_lexer": "ipython3",
   "version": "3.10.0"
  },
  "orig_nbformat": 4
 },
 "nbformat": 4,
 "nbformat_minor": 2
}
